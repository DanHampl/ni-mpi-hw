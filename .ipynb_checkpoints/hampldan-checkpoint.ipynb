{
 "cells": [
  {
   "cell_type": "markdown",
   "metadata": {},
   "source": [
    "# NI-MPI\n",
    "#### Author: Daniel Hampl (hampldan)\n",
    "#### Date: 15. 12. 2020"
   ]
  },
  {
   "cell_type": "markdown",
   "metadata": {},
   "source": [
    "## Výsledky\n",
    "### Povinné varianty \n",
    "\n",
    "| Varianta | Počet iterací | &nbsp;&nbsp;&nbsp;&nbsp;&nbsp;&nbsp;&nbsp;&nbsp;&nbsp;&nbsp;Varianta&nbsp;&nbsp;&nbsp;&nbsp;&nbsp;&nbsp;&nbsp;&nbsp;&nbsp;&nbsp;       | Komentář                         |\n",
    "|:--------:|:-------------:|:--------------:|:--------------------------------:|\n",
    "| Jacobi a | 33            | $\\gamma = 3$   |                                  |\n",
    "| Jacobi b | 987           | $\\gamma = 2$   |                                  |\n",
    "| Jacobi c | -             | $\\gamma = 1$   |     Iterační metoda nekonverguje |\n",
    "| Gauss-Seidel a | 20 | $\\gamma = 3$ |  |\n",
    "| Gauss-Seidel b | 495 | $\\gamma = 2$ |  |\n",
    "| Gauss-Seidel c | - | $\\gamma = 1$ | Iterační metoda nekonverguje |\n",
    "\n",
    "### Volitelné varianty s velikostí matice\n",
    "| Varianta | Počet iterací | &nbsp;&nbsp;&nbsp;&nbsp;&nbsp;&nbsp;&nbsp;&nbsp;&nbsp;&nbsp;Varianta&nbsp;&nbsp;&nbsp;&nbsp;&nbsp;&nbsp;&nbsp;&nbsp;&nbsp;&nbsp; | Komentář |\n",
    "|:-:|:-:|:-:|:-:|\n",
    "| Jacobi 2.001 | 949 | $\\gamma = 2.001$ |  |\n",
    "| Jacobi 4 | 20 | $\\gamma = 4$   |  |\n",
    "| Jacobi 8 | 10 | $\\gamma = 8$   |  |\n",
    "| Jacobi 16 | 7 | $\\gamma = 16$   |  |\n",
    "| Jacobi 1024 | 3 | $\\gamma = 1024$ |  |\n",
    "| Gauss-Seidel $2.001$ | 476 | $\\gamma = 2.001$ |  |\n",
    "| Gauss-Seidel 4 | 13 | $\\gamma = 4$ |  |\n",
    "| Gauss-Seidel 8 | 7 | $\\gamma = 8$ |  |\n",
    "| Gauss-Seidel 16 | 6 | $\\gamma = 16$ |  |\n",
    "| Gauss-Seidel 1024 | 2 | $\\gamma = 1024$ |  |\n",
    "| Gauss-Seidel $\\omega = 0.5$ | 1488 | $\\gamma = 2$, $\\omega = 0.5$ |  |\n",
    "| Gauss-Seidel $\\omega = 1$ | 495 | $\\gamma = 2$, $\\omega = 1$ | Znovu pro porovnání |\n",
    "| Gauss-Seidel $\\omega = 1.1$ | 405 | $\\gamma = 2$, $\\omega = 1.1$ |  |\n",
    "| Gauss-Seidel $\\omega = 1.5$ | 161 | $\\gamma = 2$, $\\omega = 1.5$ |  |\n",
    "| Gauss-Seidel $\\omega = 2$ | - | $\\gamma = 2$, $\\omega = 2$ | Iterační metoda nekonverguje |"
   ]
  },
  {
   "cell_type": "markdown",
   "metadata": {},
   "source": [
    "## Code\n",
    "### Imports"
   ]
  },
  {
   "cell_type": "code",
   "execution_count": 1,
   "metadata": {},
   "outputs": [],
   "source": [
    "import numpy as np\n",
    "from pprint import pprint"
   ]
  },
  {
   "cell_type": "markdown",
   "metadata": {},
   "source": [
    "### Solver\n"
   ]
  },
  {
   "cell_type": "code",
   "execution_count": 2,
   "metadata": {},
   "outputs": [],
   "source": [
    "class Solver:\n",
    "    def __init__(self, gamma):\n",
    "        \"\"\"\n",
    "        Initiates the instance for specific gamma value\n",
    "        \"\"\"\n",
    "        # matrix A\n",
    "        self.a = np.zeros((20, 20), dtype=np.float64)\n",
    "        np.fill_diagonal(self.a, gamma)\n",
    "        np.fill_diagonal(self.a[:, 1:], -1)\n",
    "        np.fill_diagonal(self.a[1:], -1)\n",
    "\n",
    "        # vector b\n",
    "        self.b = np.full((20, 1), gamma-2, dtype=np.float64)\n",
    "        self.b[0], self.b[-1] = gamma - 1, gamma - 1\n",
    "\n",
    "        # matrix L\n",
    "        self.l = np.tril(self.a, -1)\n",
    "\n",
    "        # matrix D\n",
    "        self.d = np.diag(np.diag(self.a))\n",
    "\n",
    "        # matrix U\n",
    "        self.u = self.a - self.l - self.d\n",
    "\n",
    "        # set jacobi as default\n",
    "        self.set_jacobi()\n",
    "\n",
    "        # set default precision\n",
    "        self.precision = 10**-6\n",
    "\n",
    "    def set_jacobi(self):\n",
    "        \"\"\"\n",
    "        Sets the Jacobi method\n",
    "        \"\"\"\n",
    "        self.q = self.d\n",
    "        self.q_inv = np.linalg.inv(self.q)\n",
    "        self.convergent = None\n",
    "        self.result = None\n",
    "        self.iterations = None\n",
    "        return self\n",
    "\n",
    "    def set_gs(self, omega = 1):\n",
    "        \"\"\"\n",
    "        Sets the Gauss-Seidel method\n",
    "        \"\"\"\n",
    "        self.q = (self.d / omega) + self.l\n",
    "        self.q_inv = np.linalg.inv(self.q)\n",
    "        self.convergent = None\n",
    "        self.result = None\n",
    "        self.iterations = None\n",
    "        return self\n",
    "    \n",
    "    def calculate(self):\n",
    "        \"\"\"\n",
    "        Check if iterative method converges and calculate the result\n",
    "        \"\"\"\n",
    "        if not self.is_convergent():\n",
    "            self.result = []\n",
    "            self.iterations = 0\n",
    "        if self.iterations is None:\n",
    "            self.result, self.iterations = self._calculate()\n",
    "        return self.result, self.iterations\n",
    "\n",
    "    def _calculate(self, xn=None, index=0):\n",
    "        \"\"\"\n",
    "        Calculate with the iterative method\n",
    "        \"\"\"\n",
    "        if xn is None:\n",
    "            xn = np.zeros((20, 1), np.float64)\n",
    "        if self.result_is_close_enough((self.a @ xn) - self.b):\n",
    "            return xn.transpose(), index\n",
    "        return self._calculate(self.calculate_single(xn), index + 1)\n",
    "\n",
    "    def calculate_single(self, xn):\n",
    "        \"\"\"\n",
    "        Calculates single iteration\n",
    "        \"\"\"\n",
    "        return (self.q_inv @ (((self.q - self.a) @ xn) + self.b))\n",
    "\n",
    "    def result_is_close_enough(self, result):\n",
    "        \"\"\"\n",
    "        Calculates if result is precise enough\n",
    "        \"\"\"\n",
    "        return (np.linalg.norm(result) / np.linalg.norm(self.b)) < self.precision\n",
    "\n",
    "    def is_convergent(self):\n",
    "        \"\"\"\n",
    "        Calculates convergence of iterative method\n",
    "        \"\"\"\n",
    "        if self.convergent is None:\n",
    "            self.convergent = max(abs(np.linalg.eigvals(np.identity(20, dtype=np.float64) - (self.q_inv @ self.a)))) < 1\n",
    "        return self.convergent"
   ]
  },
  {
   "cell_type": "markdown",
   "metadata": {},
   "source": [
    "## Ukázka funkcionality"
   ]
  },
  {
   "cell_type": "code",
   "execution_count": 3,
   "metadata": {},
   "outputs": [
    {
     "name": "stdout",
     "output_type": "stream",
     "text": [
      "array([[0.99999665, 0.99999361, 0.99999092, 0.99998862, 0.99998673,\n",
      "        0.99998528, 0.99998426, 0.99998367, 0.99998349, 0.9999837 ,\n",
      "        0.99998427, 0.99998516, 0.99998632, 0.99998772, 0.99998929,\n",
      "        0.99999101, 0.99999281, 0.99999466, 0.9999965 , 0.99999829]])\n",
      "161\n"
     ]
    }
   ],
   "source": [
    "# Vytvoříme třídu solver a zadáme jí jako parametr hodnotu gama.\n",
    "s = Solver(2) # gama = 2\n",
    "\n",
    "# Instance třídy Solver pracuje defaultně s Jacobiho metodou. Pokud si přejete počítat za pomocí této metody, nemusíte již nic nastavovat.\n",
    "# V případě, že chcete využít Gauss-Seidlovu metodu nastavíme ji s nepovinným parametrem omega, jehož defaultní hodnota je 1\n",
    "s.set_gs(1.5)\n",
    "\n",
    "# Nyní stačí jen zahájit výpočet\n",
    "result, iterations = s.calculate() # vypočítáme aproximaci rovnice za pomocí iterační metody\n",
    "\n",
    "# Dále můžeme získat informaci o konvergenci iterační metody.\n",
    "converges = s.is_convergent() # True v případě že metoda konverguje, False, pokud ne\n",
    "\n",
    "# Na konec můžeme vypsat výsledek aproximace\n",
    "pprint(result)\n",
    "\n",
    "# a počet potřebných iterací\n",
    "pprint(iterations)"
   ]
  }
 ],
 "metadata": {
  "kernelspec": {
   "display_name": "Python 3",
   "language": "python",
   "name": "python3"
  },
  "language_info": {
   "codemirror_mode": {
    "name": "ipython",
    "version": 3
   },
   "file_extension": ".py",
   "mimetype": "text/x-python",
   "name": "python",
   "nbconvert_exporter": "python",
   "pygments_lexer": "ipython3",
   "version": "3.7.3"
  }
 },
 "nbformat": 4,
 "nbformat_minor": 2
}
